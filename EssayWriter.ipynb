{
  "nbformat": 4,
  "nbformat_minor": 0,
  "metadata": {
    "colab": {
      "provenance": []
    },
    "kernelspec": {
      "name": "python3",
      "display_name": "Python 3"
    },
    "language_info": {
      "name": "python"
    }
  },
  "cells": [
    {
      "cell_type": "code",
      "execution_count": 1,
      "metadata": {
        "colab": {
          "base_uri": "https://localhost:8080/"
        },
        "id": "1WJMmPWjKob5",
        "outputId": "43bf688a-650c-4d06-cb67-f888e3d38912"
      },
      "outputs": [
        {
          "output_type": "stream",
          "name": "stdout",
          "text": [
            "Requirement already satisfied: langgraph in /usr/local/lib/python3.11/dist-packages (0.2.69)\n",
            "Requirement already satisfied: langchain_core in /usr/local/lib/python3.11/dist-packages (0.3.33)\n",
            "Requirement already satisfied: langchain_groq in /usr/local/lib/python3.11/dist-packages (0.2.4)\n",
            "Requirement already satisfied: langgraph-checkpoint-sqlite in /usr/local/lib/python3.11/dist-packages (2.0.3)\n",
            "Collecting pygraphviz\n",
            "  Using cached pygraphviz-1.14.tar.gz (106 kB)\n",
            "  Installing build dependencies ... \u001b[?25l\u001b[?25hdone\n",
            "  Getting requirements to build wheel ... \u001b[?25l\u001b[?25hdone\n",
            "  Preparing metadata (pyproject.toml) ... \u001b[?25l\u001b[?25hdone\n",
            "Requirement already satisfied: langgraph-checkpoint<3.0.0,>=2.0.10 in /usr/local/lib/python3.11/dist-packages (from langgraph) (2.0.10)\n",
            "Requirement already satisfied: langgraph-sdk<0.2.0,>=0.1.42 in /usr/local/lib/python3.11/dist-packages (from langgraph) (0.1.51)\n",
            "Requirement already satisfied: PyYAML>=5.3 in /usr/local/lib/python3.11/dist-packages (from langchain_core) (6.0.2)\n",
            "Requirement already satisfied: jsonpatch<2.0,>=1.33 in /usr/local/lib/python3.11/dist-packages (from langchain_core) (1.33)\n",
            "Requirement already satisfied: langsmith<0.4,>=0.1.125 in /usr/local/lib/python3.11/dist-packages (from langchain_core) (0.3.2)\n",
            "Requirement already satisfied: packaging<25,>=23.2 in /usr/local/lib/python3.11/dist-packages (from langchain_core) (24.2)\n",
            "Requirement already satisfied: pydantic<3.0.0,>=2.5.2 in /usr/local/lib/python3.11/dist-packages (from langchain_core) (2.10.6)\n",
            "Requirement already satisfied: tenacity!=8.4.0,<10.0.0,>=8.1.0 in /usr/local/lib/python3.11/dist-packages (from langchain_core) (9.0.0)\n",
            "Requirement already satisfied: typing-extensions>=4.7 in /usr/local/lib/python3.11/dist-packages (from langchain_core) (4.12.2)\n",
            "Requirement already satisfied: groq<1,>=0.4.1 in /usr/local/lib/python3.11/dist-packages (from langchain_groq) (0.16.0)\n",
            "Requirement already satisfied: aiosqlite<0.21.0,>=0.20.0 in /usr/local/lib/python3.11/dist-packages (from langgraph-checkpoint-sqlite) (0.20.0)\n",
            "Requirement already satisfied: anyio<5,>=3.5.0 in /usr/local/lib/python3.11/dist-packages (from groq<1,>=0.4.1->langchain_groq) (3.7.1)\n",
            "Requirement already satisfied: distro<2,>=1.7.0 in /usr/local/lib/python3.11/dist-packages (from groq<1,>=0.4.1->langchain_groq) (1.9.0)\n",
            "Requirement already satisfied: httpx<1,>=0.23.0 in /usr/local/lib/python3.11/dist-packages (from groq<1,>=0.4.1->langchain_groq) (0.28.1)\n",
            "Requirement already satisfied: sniffio in /usr/local/lib/python3.11/dist-packages (from groq<1,>=0.4.1->langchain_groq) (1.3.1)\n",
            "Requirement already satisfied: jsonpointer>=1.9 in /usr/local/lib/python3.11/dist-packages (from jsonpatch<2.0,>=1.33->langchain_core) (3.0.0)\n",
            "Requirement already satisfied: msgpack<2.0.0,>=1.1.0 in /usr/local/lib/python3.11/dist-packages (from langgraph-checkpoint<3.0.0,>=2.0.10->langgraph) (1.1.0)\n",
            "Requirement already satisfied: orjson>=3.10.1 in /usr/local/lib/python3.11/dist-packages (from langgraph-sdk<0.2.0,>=0.1.42->langgraph) (3.10.15)\n",
            "Requirement already satisfied: requests<3,>=2 in /usr/local/lib/python3.11/dist-packages (from langsmith<0.4,>=0.1.125->langchain_core) (2.32.3)\n",
            "Requirement already satisfied: requests-toolbelt<2.0.0,>=1.0.0 in /usr/local/lib/python3.11/dist-packages (from langsmith<0.4,>=0.1.125->langchain_core) (1.0.0)\n",
            "Requirement already satisfied: zstandard<0.24.0,>=0.23.0 in /usr/local/lib/python3.11/dist-packages (from langsmith<0.4,>=0.1.125->langchain_core) (0.23.0)\n",
            "Requirement already satisfied: annotated-types>=0.6.0 in /usr/local/lib/python3.11/dist-packages (from pydantic<3.0.0,>=2.5.2->langchain_core) (0.7.0)\n",
            "Requirement already satisfied: pydantic-core==2.27.2 in /usr/local/lib/python3.11/dist-packages (from pydantic<3.0.0,>=2.5.2->langchain_core) (2.27.2)\n",
            "Requirement already satisfied: idna>=2.8 in /usr/local/lib/python3.11/dist-packages (from anyio<5,>=3.5.0->groq<1,>=0.4.1->langchain_groq) (3.10)\n",
            "Requirement already satisfied: certifi in /usr/local/lib/python3.11/dist-packages (from httpx<1,>=0.23.0->groq<1,>=0.4.1->langchain_groq) (2024.12.14)\n",
            "Requirement already satisfied: httpcore==1.* in /usr/local/lib/python3.11/dist-packages (from httpx<1,>=0.23.0->groq<1,>=0.4.1->langchain_groq) (1.0.7)\n",
            "Requirement already satisfied: h11<0.15,>=0.13 in /usr/local/lib/python3.11/dist-packages (from httpcore==1.*->httpx<1,>=0.23.0->groq<1,>=0.4.1->langchain_groq) (0.14.0)\n",
            "Requirement already satisfied: charset-normalizer<4,>=2 in /usr/local/lib/python3.11/dist-packages (from requests<3,>=2->langsmith<0.4,>=0.1.125->langchain_core) (3.4.1)\n",
            "Requirement already satisfied: urllib3<3,>=1.21.1 in /usr/local/lib/python3.11/dist-packages (from requests<3,>=2->langsmith<0.4,>=0.1.125->langchain_core) (2.3.0)\n",
            "Building wheels for collected packages: pygraphviz\n",
            "  \u001b[1;31merror\u001b[0m: \u001b[1msubprocess-exited-with-error\u001b[0m\n",
            "  \n",
            "  \u001b[31m×\u001b[0m \u001b[32mBuilding wheel for pygraphviz \u001b[0m\u001b[1;32m(\u001b[0m\u001b[32mpyproject.toml\u001b[0m\u001b[1;32m)\u001b[0m did not run successfully.\n",
            "  \u001b[31m│\u001b[0m exit code: \u001b[1;36m1\u001b[0m\n",
            "  \u001b[31m╰─>\u001b[0m See above for output.\n",
            "  \n",
            "  \u001b[1;35mnote\u001b[0m: This error originates from a subprocess, and is likely not a problem with pip.\n",
            "  Building wheel for pygraphviz (pyproject.toml) ... \u001b[?25l\u001b[?25herror\n",
            "\u001b[31m  ERROR: Failed building wheel for pygraphviz\u001b[0m\u001b[31m\n",
            "\u001b[0mFailed to build pygraphviz\n",
            "\u001b[31mERROR: ERROR: Failed to build installable wheels for some pyproject.toml based projects (pygraphviz)\u001b[0m\u001b[31m\n",
            "\u001b[0m"
          ]
        }
      ],
      "source": [
        "!pip install langgraph langchain_core langchain_groq langgraph-checkpoint-sqlite  pygraphviz"
      ]
    },
    {
      "cell_type": "code",
      "source": [
        "from langgraph.graph import StateGraph, END\n",
        "from typing import TypedDict, Annotated, List\n",
        "import operator\n",
        "from langgraph.checkpoint.memory import MemorySaver\n",
        "from langgraph.checkpoint.sqlite import SqliteSaver\n",
        "from langgraph.checkpoint.sqlite.aio import AsyncSqliteSaver\n",
        "from langchain_core.messages import AnyMessage, SystemMessage, HumanMessage\n",
        "from langchain_groq import ChatGroq\n",
        "import os\n",
        "from langgraph.checkpoint.memory import MemorySaver"
      ],
      "metadata": {
        "id": "w9AeDGVXLL8u"
      },
      "execution_count": 2,
      "outputs": []
    },
    {
      "cell_type": "code",
      "source": [
        "GROQ_API_KEY=\"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\"\n",
        "TAVILY_API_KEY=\"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\"\n",
        "os.environ['GROQ_API_KEY']=GROQ_API_KEY\n",
        "os.environ['TAVILY_API_KEY']=TAVILY_API_KEY\n"
      ],
      "metadata": {
        "id": "oOQNFx8hpd7S"
      },
      "execution_count": 3,
      "outputs": []
    },
    {
      "cell_type": "code",
      "source": [
        "class AgentState(TypedDict):\n",
        "  task:str\n",
        "  plan:str\n",
        "  draft:str\n",
        "  critique:str\n",
        "  content: List[str]\n",
        "  revision_number:int\n",
        "  max_revisions:int"
      ],
      "metadata": {
        "id": "Hi0lAbFxM7MD"
      },
      "execution_count": 4,
      "outputs": []
    },
    {
      "cell_type": "code",
      "source": [
        "model=ChatGroq(model='llama-3.3-70b-versatile')"
      ],
      "metadata": {
        "id": "naiKGcgHpM6m"
      },
      "execution_count": 5,
      "outputs": []
    },
    {
      "cell_type": "code",
      "source": [
        "result=model.invoke('what are ai agents in 30 words?')"
      ],
      "metadata": {
        "id": "Or7DpWuOqbeN"
      },
      "execution_count": 6,
      "outputs": []
    },
    {
      "cell_type": "code",
      "source": [
        "PLAN_PROMPT = \"\"\"You are an expert writer tasked with writing a high level outline of an essay. \\\n",
        "Write such an outline for the user provided topic. Give an outline of the essay along with any relevant notes \\\n",
        "or instructions for the sections.\"\"\""
      ],
      "metadata": {
        "id": "G0c4_fHOqdsv"
      },
      "execution_count": 7,
      "outputs": []
    },
    {
      "cell_type": "code",
      "source": [
        "WRITER_PROMPT = \"\"\"You are an essay assistant tasked with writing excellent 5-paragraph essays.\\\n",
        "Generate the best essay possible for the user's request and the initial outline. \\\n",
        "If the user provides critique, respond with a revised version of your previous attempts. \\\n",
        "Utilize all the information below as needed:\n",
        "\n",
        "------\n",
        "\n",
        "{content}\"\"\""
      ],
      "metadata": {
        "id": "S9mSrPvJqoQC"
      },
      "execution_count": 8,
      "outputs": []
    },
    {
      "cell_type": "code",
      "source": [
        "REFLECTION_PROMPT = \"\"\"You are a teacher grading an essay submission. \\\n",
        "Generate critique and recommendations for the user's submission. \\\n",
        "Provide detailed recommendations, including requests for length, depth, style, etc.\"\"\""
      ],
      "metadata": {
        "id": "B7UX9etkqzh4"
      },
      "execution_count": 9,
      "outputs": []
    },
    {
      "cell_type": "code",
      "source": [
        "RESEARCH_PLAN_PROMPT = \"\"\"You are a researcher charged with providing information that can \\\n",
        "be used when writing the following essay. Generate a list of search queries that will gather \\\n",
        "any relevant information. Only generate 3 queries max.\"\"\"\n"
      ],
      "metadata": {
        "id": "1eUQU8Wyq2uF"
      },
      "execution_count": 10,
      "outputs": []
    },
    {
      "cell_type": "code",
      "source": [
        "RESEARCH_CRITIQUE_PROMPT = \"\"\"You are a researcher charged with providing information that can \\\n",
        "be used when making any requested revisions (as outlined below). \\\n",
        "Generate a list of search queries that will gather any relevant information. Only generate 3 queries max.\"\"\"\n"
      ],
      "metadata": {
        "id": "5OeUAHQgq4HW"
      },
      "execution_count": 11,
      "outputs": []
    },
    {
      "cell_type": "code",
      "source": [
        "from langchain_core.pydantic_v1 import BaseModel\n",
        "\n",
        "class Queries(BaseModel):\n",
        "  queries:List[str]"
      ],
      "metadata": {
        "colab": {
          "base_uri": "https://localhost:8080/"
        },
        "id": "ogtsFxOPq5PU",
        "outputId": "f497b514-826b-4d0e-94a7-c189bf3616ee"
      },
      "execution_count": 12,
      "outputs": [
        {
          "output_type": "stream",
          "name": "stderr",
          "text": [
            "/usr/local/lib/python3.11/dist-packages/IPython/core/interactiveshell.py:3553: LangChainDeprecationWarning: As of langchain-core 0.3.0, LangChain uses pydantic v2 internally. The langchain_core.pydantic_v1 module was a compatibility shim for pydantic v1, and should no longer be used. Please update the code to import from Pydantic directly.\n",
            "\n",
            "For example, replace imports like: `from langchain_core.pydantic_v1 import BaseModel`\n",
            "with: `from pydantic import BaseModel`\n",
            "or the v1 compatibility namespace if you are working in a code base that has not been fully upgraded to pydantic 2 yet. \tfrom pydantic.v1 import BaseModel\n",
            "\n",
            "  exec(code_obj, self.user_global_ns, self.user_ns)\n"
          ]
        }
      ]
    },
    {
      "cell_type": "code",
      "source": [
        "!pip install tavily-python\n",
        "from tavily import TavilyClient\n",
        "tavily=TavilyClient()"
      ],
      "metadata": {
        "colab": {
          "base_uri": "https://localhost:8080/"
        },
        "id": "aRmWKXM8ryfC",
        "outputId": "c2067893-535f-48f3-9ad7-ae0b4f0b3c08"
      },
      "execution_count": 13,
      "outputs": [
        {
          "output_type": "stream",
          "name": "stdout",
          "text": [
            "Requirement already satisfied: tavily-python in /usr/local/lib/python3.11/dist-packages (0.5.0)\n",
            "Requirement already satisfied: requests in /usr/local/lib/python3.11/dist-packages (from tavily-python) (2.32.3)\n",
            "Requirement already satisfied: tiktoken>=0.5.1 in /usr/local/lib/python3.11/dist-packages (from tavily-python) (0.8.0)\n",
            "Requirement already satisfied: httpx in /usr/local/lib/python3.11/dist-packages (from tavily-python) (0.28.1)\n",
            "Requirement already satisfied: regex>=2022.1.18 in /usr/local/lib/python3.11/dist-packages (from tiktoken>=0.5.1->tavily-python) (2024.11.6)\n",
            "Requirement already satisfied: charset-normalizer<4,>=2 in /usr/local/lib/python3.11/dist-packages (from requests->tavily-python) (3.4.1)\n",
            "Requirement already satisfied: idna<4,>=2.5 in /usr/local/lib/python3.11/dist-packages (from requests->tavily-python) (3.10)\n",
            "Requirement already satisfied: urllib3<3,>=1.21.1 in /usr/local/lib/python3.11/dist-packages (from requests->tavily-python) (2.3.0)\n",
            "Requirement already satisfied: certifi>=2017.4.17 in /usr/local/lib/python3.11/dist-packages (from requests->tavily-python) (2024.12.14)\n",
            "Requirement already satisfied: anyio in /usr/local/lib/python3.11/dist-packages (from httpx->tavily-python) (3.7.1)\n",
            "Requirement already satisfied: httpcore==1.* in /usr/local/lib/python3.11/dist-packages (from httpx->tavily-python) (1.0.7)\n",
            "Requirement already satisfied: h11<0.15,>=0.13 in /usr/local/lib/python3.11/dist-packages (from httpcore==1.*->httpx->tavily-python) (0.14.0)\n",
            "Requirement already satisfied: sniffio>=1.1 in /usr/local/lib/python3.11/dist-packages (from anyio->httpx->tavily-python) (1.3.1)\n"
          ]
        }
      ]
    },
    {
      "cell_type": "code",
      "source": [],
      "metadata": {
        "id": "xKpT9HjVt6Vg"
      },
      "execution_count": 13,
      "outputs": []
    },
    {
      "cell_type": "code",
      "source": [
        "def plan_node(state:AgentState):\n",
        "  messages=[\n",
        "      SystemMessage(content=PLAN_PROMPT),\n",
        "      HumanMessage(content=state['task'])\n",
        "  ]\n",
        "  response=model.invoke(messages)\n",
        "  return {\"plan\":response.content}"
      ],
      "metadata": {
        "id": "rxK0PFGasGlh"
      },
      "execution_count": 14,
      "outputs": []
    },
    {
      "cell_type": "code",
      "source": [
        "def research_plan_node(state: AgentState):\n",
        "    queries = model.with_structured_output(Queries).invoke([\n",
        "        SystemMessage(content=RESEARCH_PLAN_PROMPT),\n",
        "        HumanMessage(content=state['task'])\n",
        "    ])\n",
        "    content = state['content'] or []\n",
        "    for q in queries.queries:\n",
        "        response = tavily.search(query=q, max_results=2)\n",
        "        for r in response['results']:\n",
        "            content.append(r['content'])\n",
        "    return {\"content\": content}"
      ],
      "metadata": {
        "id": "1mwzZSlBtZed"
      },
      "execution_count": 15,
      "outputs": []
    },
    {
      "cell_type": "code",
      "source": [
        "def generation_node(state:AgentState):\n",
        "  content=\"\\n\\n\".join(state['content'] or [])\n",
        "  user_message=HumanMessage(\n",
        "      content=f\"{state['task']} \\n\\n Here is my plan: \\n\\n{state['plan']}]\")\n",
        "  messages=[\n",
        "          SystemMessage(content=WRITER_PROMPT.format(content=content)),\n",
        "          user_message\n",
        "      ]\n",
        "\n",
        "  response=model.invoke(messages)\n",
        "  return {'draft':response.content,\n",
        "          'revision_number':state.get('revision_number',1)+1}"
      ],
      "metadata": {
        "id": "zoWamSpOu4im"
      },
      "execution_count": 16,
      "outputs": []
    },
    {
      "cell_type": "code",
      "source": [
        "def reflection_node(state:AgentState):\n",
        "  messages=[\n",
        "      SystemMessage(content=REFLECTION_PROMPT),\n",
        "      HumanMessage(content=state['draft'])\n",
        "  ]\n",
        "\n",
        "  response=model.invoke(messages)\n",
        "  return {'critique':response.content}"
      ],
      "metadata": {
        "id": "8WaER_OnxH1w"
      },
      "execution_count": 17,
      "outputs": []
    },
    {
      "cell_type": "code",
      "source": [
        "def research_critique_node(state: AgentState):\n",
        "    queries = model.with_structured_output(Queries).invoke([\n",
        "        SystemMessage(content=RESEARCH_CRITIQUE_PROMPT),\n",
        "        HumanMessage(content=state['critique'])\n",
        "    ])\n",
        "    content = state['content'] or []\n",
        "    for q in queries.queries:\n",
        "        response = tavily.search(query=q, max_results=2)\n",
        "        for r in response['results']:\n",
        "            content.append(r['content'])\n",
        "    return {\"content\": content}"
      ],
      "metadata": {
        "id": "ABYgC9FRyjn9"
      },
      "execution_count": 18,
      "outputs": []
    },
    {
      "cell_type": "code",
      "source": [
        "def should_continue(state):\n",
        "  if state['revision_number'] > state['max_revisions']:\n",
        "    return END\n",
        "  return 'reflect'"
      ],
      "metadata": {
        "id": "lHfgVO-8HzKl"
      },
      "execution_count": 19,
      "outputs": []
    },
    {
      "cell_type": "code",
      "source": [
        "builder=StateGraph(AgentState)"
      ],
      "metadata": {
        "id": "VErXN4EYILw_"
      },
      "execution_count": 20,
      "outputs": []
    },
    {
      "cell_type": "code",
      "source": [
        "builder.add_node('planner',plan_node)\n",
        "builder.add_node('generate',generation_node)\n",
        "builder.add_node('reflect',reflection_node)\n",
        "builder.add_node('research_plan',research_plan_node)\n",
        "builder.add_node('research_critique',research_critique_node)"
      ],
      "metadata": {
        "colab": {
          "base_uri": "https://localhost:8080/"
        },
        "id": "tgz8oZ58IYv9",
        "outputId": "2cd1a32a-ccdb-440b-a0ba-27ba53c411ea"
      },
      "execution_count": 21,
      "outputs": [
        {
          "output_type": "execute_result",
          "data": {
            "text/plain": [
              "<langgraph.graph.state.StateGraph at 0x7fb25fd57790>"
            ]
          },
          "metadata": {},
          "execution_count": 21
        }
      ]
    },
    {
      "cell_type": "code",
      "source": [
        "builder.set_entry_point('planner')"
      ],
      "metadata": {
        "colab": {
          "base_uri": "https://localhost:8080/"
        },
        "id": "mc_8T2pOI3Gk",
        "outputId": "245b3bba-9d26-488e-d2dd-431713e2c345"
      },
      "execution_count": 22,
      "outputs": [
        {
          "output_type": "execute_result",
          "data": {
            "text/plain": [
              "<langgraph.graph.state.StateGraph at 0x7fb25fd57790>"
            ]
          },
          "metadata": {},
          "execution_count": 22
        }
      ]
    },
    {
      "cell_type": "code",
      "source": [
        "builder.add_conditional_edges(\n",
        "    'generate',\n",
        "    should_continue,\n",
        "    {END:END,'reflect':'reflect'}\n",
        ")"
      ],
      "metadata": {
        "colab": {
          "base_uri": "https://localhost:8080/"
        },
        "id": "v8Sb07q8JB8S",
        "outputId": "401a22b7-18ae-468a-c810-caa54ae27f64"
      },
      "execution_count": 23,
      "outputs": [
        {
          "output_type": "execute_result",
          "data": {
            "text/plain": [
              "<langgraph.graph.state.StateGraph at 0x7fb25fd57790>"
            ]
          },
          "metadata": {},
          "execution_count": 23
        }
      ]
    },
    {
      "cell_type": "code",
      "source": [
        "builder.add_edge(\"planner\",'research_plan')\n",
        "builder.add_edge('research_plan','generate')\n",
        "builder.add_edge('reflect','research_critique')\n",
        "builder.add_edge('research_critique','generate')"
      ],
      "metadata": {
        "colab": {
          "base_uri": "https://localhost:8080/"
        },
        "id": "fUQRgzCKJTOe",
        "outputId": "f9acec95-ac4f-420e-8a57-768d4f17d06d"
      },
      "execution_count": 24,
      "outputs": [
        {
          "output_type": "execute_result",
          "data": {
            "text/plain": [
              "<langgraph.graph.state.StateGraph at 0x7fb25fd57790>"
            ]
          },
          "metadata": {},
          "execution_count": 24
        }
      ]
    },
    {
      "cell_type": "code",
      "source": [
        "memory = MemorySaver()"
      ],
      "metadata": {
        "id": "8LxpJE-9QUqP"
      },
      "execution_count": 25,
      "outputs": []
    },
    {
      "cell_type": "code",
      "source": [
        "graph = builder.compile(checkpointer=memory)"
      ],
      "metadata": {
        "id": "59OFwENSJr36"
      },
      "execution_count": 26,
      "outputs": []
    },
    {
      "cell_type": "code",
      "source": [
        "from IPython.display import Image, display\n",
        "display(Image(graph.get_graph().draw_mermaid_png()))"
      ],
      "metadata": {
        "colab": {
          "base_uri": "https://localhost:8080/",
          "height": 563
        },
        "id": "x8nNsCo8J6UN",
        "outputId": "83ec881a-87bc-45d4-eba4-0f3aab8e5193"
      },
      "execution_count": 27,
      "outputs": [
        {
          "output_type": "display_data",
          "data": {
            "image/png": "[encoded data removed]",
            "text/plain": [
              "<IPython.core.display.Image object>"
            ]
          },
          "metadata": {}
        }
      ]
    },
    {
      "cell_type": "code",
      "source": [
        "thread = {\"configurable\": {\"thread_id\": \"1\"}}\n",
        "for s in graph.stream({\n",
        "    'task': \"what is the difference between langchain and langsmith\",\n",
        "    \"max_revisions\": 2,\n",
        "    \"revision_number\": 1,\n",
        "    \"content\": [],  # Add content key with empty list as default\n",
        "}, thread):\n",
        "    print(s)"
      ],
      "metadata": {
        "colab": {
          "base_uri": "https://localhost:8080/"
        },
        "id": "iNC_IGu6KYtK",
        "outputId": "e8445d02-dd83-452e-a78c-3ee7cc50625b"
      },
      "execution_count": 28,
      "outputs": [
        {
          "output_type": "stream",
          "name": "stdout",
          "text": [
            "{'planner': {'plan': 'Here is a high-level outline for an essay on the difference between LangChain and Langsmith:\\n\\n**I. Introduction**\\n* Briefly introduce LangChain and Langsmith as two AI-powered language models\\n* Mention the growing interest in language models and their applications\\n* Thesis statement: While both LangChain and Langsmith are language models, they have distinct differences in their architecture, capabilities, and use cases.\\n\\n**II. Overview of LangChain**\\n* Define LangChain and its primary function (e.g., a framework for building and interacting with language models)\\n* Discuss the key features of LangChain, such as its modular design and support for multiple language models\\n* Provide examples of how LangChain is used in various applications (e.g., chatbots, language translation)\\n\\n**III. Overview of Langsmith**\\n* Define Langsmith and its primary function (e.g., a language model designed for specific tasks such as text generation and editing)\\n* Discuss the key features of Langsmith, such as its ability to learn from user feedback and adapt to different writing styles\\n* Provide examples of how Langsmith is used in various applications (e.g., content creation, language translation)\\n\\n**IV. Comparison of LangChain and Langsmith**\\n* Compare the architecture and capabilities of LangChain and Langsmith\\n* Discuss the differences in their training data, model sizes, and performance metrics\\n* Highlight the strengths and weaknesses of each model, including their limitations and potential biases\\n\\n**V. Use Cases and Applications**\\n* Discuss the different use cases and applications of LangChain and Langsmith\\n* Provide examples of how each model is used in various industries, such as customer service, content creation, and education\\n* Highlight the potential benefits and challenges of using each model in different contexts\\n\\n**VI. Conclusion**\\n* Summarize the main differences between LangChain and Langsmith\\n* Reiterate the thesis statement and provide supporting evidence from the essay\\n* Offer final thoughts on the implications of these differences for the development and use of language models.\\n\\nNotes and instructions:\\n\\n* In Section II and III, provide concrete examples and use cases to illustrate the features and capabilities of each model.\\n* In Section IV, use tables, diagrams, or other visual aids to compare the architecture and capabilities of LangChain and Langsmith.\\n* In Section V, provide specific examples of how each model is used in different industries and contexts.\\n* Throughout the essay, use technical terms and concepts related to language models, but explain them in a way that is accessible to a general audience.\\n* Use credible sources to support the arguments and claims made in the essay, and properly cite them according to the chosen citation style.'}}\n",
            "{'research_plan': {'content': ['If you’re responsible for ensuring your AI models work in production, or you need to frequently debug and monitor your pipelines, Langsmith is your go-to tool. In short, while Langchain excels at managing and scaling model workflows, Langsmith is designed for those times when you need deep visibility and control over large, complex AI systems in production. But if you’re managing a complex AI pipeline with multiple models that need debugging and orchestrating, Langsmith’s capabilities become essential. If you’re debugging complex AI models or managing large-scale workflows with multiple moving parts, Langsmith’s advanced debugging and orchestration features will be indispensable. Additionally, if you’re working on cross-platform model deployments — say, running models on-prem and in the cloud simultaneously — Langsmith offers better orchestration and monitoring tools to handle the complexity.', 'LangChain is ideal for early-stage prototyping and small-scale applications, while LangSmith is better suited for large-scale, production-ready', 'If you’re responsible for ensuring your AI models work in production, or you need to frequently debug and monitor your pipelines, Langsmith is your go-to tool. In short, while Langchain excels at managing and scaling model workflows, Langsmith is designed for those times when you need deep visibility and control over large, complex AI systems in production. But if you’re managing a complex AI pipeline with multiple models that need debugging and orchestrating, Langsmith’s capabilities become essential. If you’re debugging complex AI models or managing large-scale workflows with multiple moving parts, Langsmith’s advanced debugging and orchestration features will be indispensable. Additionally, if you’re working on cross-platform model deployments — say, running models on-prem and in the cloud simultaneously — Langsmith offers better orchestration and monitoring tools to handle the complexity.', 'LangChain is ideal for early-stage prototyping and small-scale applications, while LangSmith is better suited for large-scale, production-ready applications.', 'If you’re responsible for ensuring your AI models work in production, or you need to frequently debug and monitor your pipelines, Langsmith is your go-to tool. In short, while Langchain excels at managing and scaling model workflows, Langsmith is designed for those times when you need deep visibility and control over large, complex AI systems in production. But if you’re managing a complex AI pipeline with multiple models that need debugging and orchestrating, Langsmith’s capabilities become essential. If you’re debugging complex AI models or managing large-scale workflows with multiple moving parts, Langsmith’s advanced debugging and orchestration features will be indispensable. Additionally, if you’re working on cross-platform model deployments — say, running models on-prem and in the cloud simultaneously — Langsmith offers better orchestration and monitoring tools to handle the complexity.', 'LangChain and LangSmith are two complementary tools that cater to different stages and requirements of LLM development. LangChain is ideal for early-stage prototyping and small-scale applications, while LangSmith is better suited for large-scale, production-ready applications that require advanced debugging, testing, and monitoring capabilities']}}\n",
            "{'generate': {'draft': \"Here is a 5-paragraph essay on the difference between LangChain and Langsmith:\\n\\nThe field of artificial intelligence has witnessed significant advancements in recent years, with language models being a crucial area of research and development. Two prominent language models that have gained attention are LangChain and Langsmith. While both models are designed to process and generate human-like language, they have distinct differences in their architecture, capabilities, and use cases. LangChain is ideal for early-stage prototyping and small-scale applications, whereas Langsmith is better suited for large-scale, production-ready applications that require advanced debugging, testing, and monitoring capabilities.\\n\\nLangChain is a framework for building and interacting with language models, allowing developers to create and manage complex AI workflows. Its modular design and support for multiple language models make it an excellent choice for applications such as chatbots, language translation, and text summarization. For instance, LangChain can be used to build a conversational AI model that can engage in natural-sounding conversations with users. Additionally, its ability to scale model workflows makes it an attractive option for businesses looking to deploy language models in production environments. However, LangChain's capabilities are limited when it comes to providing deep visibility and control over large, complex AI systems.\\n\\nLangsmith, on the other hand, is designed for large-scale, production-ready applications that require advanced debugging, testing, and monitoring capabilities. It offers better orchestration and monitoring tools to handle the complexity of cross-platform model deployments, making it an essential tool for ensuring AI models work seamlessly in production environments. Langsmith's advanced debugging and orchestration features are particularly useful when managing complex AI pipelines with multiple models that need debugging and orchestrating. Furthermore, its ability to provide deep visibility and control over large, complex AI systems makes it an ideal choice for applications that require high levels of reliability and performance.\\n\\nA comparison of LangChain and Langsmith reveals significant differences in their architecture and capabilities. LangChain is geared towards early-stage prototyping and small-scale applications, whereas Langsmith is designed for large-scale, production-ready applications. While LangChain excels at managing and scaling model workflows, Langsmith provides advanced debugging and orchestration features that are essential for complex AI systems. The choice between LangChain and Langsmith ultimately depends on the specific use case and requirements of the application. For example, a business looking to deploy a conversational AI model may prefer LangChain, while a company requiring advanced debugging and monitoring capabilities may opt for Langsmith.\\n\\nIn conclusion, LangChain and Langsmith are two distinct language models with different architectures, capabilities, and use cases. While LangChain is ideal for early-stage prototyping and small-scale applications, Langsmith is better suited for large-scale, production-ready applications that require advanced debugging, testing, and monitoring capabilities. By understanding the differences between these two models, developers and businesses can make informed decisions about which model to use for their specific needs. As the field of artificial intelligence continues to evolve, the development and use of language models like LangChain and Langsmith will play a crucial role in shaping the future of human-computer interaction.\", 'revision_number': 2}}\n",
            "{'reflect': {'critique': '**Overall Assessment:**\\nThe essay provides a clear and concise comparison between LangChain and Langsmith, highlighting their differences in architecture, capabilities, and use cases. The writer demonstrates a good understanding of the subject matter and presents their arguments in a logical and organized manner. However, there are areas that require improvement to enhance the depth, clarity, and overall quality of the essay.\\n\\n**Recommendations:**\\n\\n1. **Introduction:** The introduction is brief and to the point, but it could be more engaging. Consider adding a hook to capture the reader\\'s attention, such as a thought-provoking question or a relevant statistic. Additionally, provide a clearer thesis statement that outlines the main arguments and structure of the essay. (Current length: 156 words, recommended length: 200-250 words)\\n\\n2. **Body Paragraphs:** The body paragraphs are well-structured, but they could benefit from more specific examples and use cases to illustrate the differences between LangChain and Langsmith. For instance, in paragraph 2, you could provide a concrete example of how LangChain is used in a chatbot application, including the benefits and challenges of implementing the model. (Current length: 150-200 words per paragraph, recommended length: 200-250 words per paragraph)\\n\\n3. **Depth and Analysis:** While the essay provides a good overview of the differences between LangChain and Langsmith, it lacks in-depth analysis and critical evaluation of the models. Consider discussing the implications of using one model over the other, such as the potential risks and benefits, and the trade-offs between scalability and complexity. (Current depth: surface-level comparison, recommended depth: in-depth analysis and critical evaluation)\\n\\n4. **Transitions and Connections:** The essay could benefit from smoother transitions between paragraphs and clearer connections between ideas. Use transitional phrases and sentences to guide the reader through the argument and make explicit links between the different points being made. (Current transitions: basic, recommended transitions: smooth and explicit)\\n\\n5. **Conclusion:** The conclusion is concise, but it could be more effective in summarizing the main points and reiterating the thesis statement. Consider adding a final thought or a call to action to leave the reader with a lasting impression. (Current length: 156 words, recommended length: 200-250 words)\\n\\n6. **Style and Tone:** The writing style is clear and concise, but it could be more engaging and polished. Consider using more varied sentence structures, active voice, and precise vocabulary to enhance the overall tone and style of the essay. (Current style: straightforward, recommended style: engaging and polished)\\n\\n7. **Length:** The essay is within the typical 5-paragraph essay length, but it could benefit from a more balanced structure. Consider allocating more space to the body paragraphs and conclusion, and less space to the introduction. (Current length: 750-850 words, recommended length: 800-1000 words)\\n\\n**Specific Line-by-Line Feedback:**\\n\\n* In paragraph 1, consider adding more context about the significance of language models in the field of artificial intelligence.\\n* In paragraph 2, the sentence \"For instance, LangChain can be used to build a conversational AI model that can engage in natural-sounding conversations with users\" could be expanded to provide more details about the benefits and challenges of implementing LangChain in this context.\\n* In paragraph 3, the sentence \"Langsmith\\'s advanced debugging and orchestration features are particularly useful when managing complex AI pipelines with multiple models that need debugging and orchestrating\" could be rephrased for better clarity and concision.\\n* In paragraph 4, consider adding more specific examples to illustrate the differences between LangChain and Langsmith, such as a comparison of their performance in different use cases.\\n* In paragraph 5, the sentence \"As the field of artificial intelligence continues to evolve, the development and use of language models like LangChain and Langsmith will play a crucial role in shaping the future of human-computer interaction\" could be expanded to provide more insights into the potential implications and future directions of language models.\\n\\nBy addressing these recommendations, the essay can be improved to provide a more comprehensive, in-depth, and engaging comparison between LangChain and Langsmith.'}}\n",
            "{'research_critique': {'content': ['If you’re responsible for ensuring your AI models work in production, or you need to frequently debug and monitor your pipelines, Langsmith is your go-to tool. In short, while Langchain excels at managing and scaling model workflows, Langsmith is designed for those times when you need deep visibility and control over large, complex AI systems in production. But if you’re managing a complex AI pipeline with multiple models that need debugging and orchestrating, Langsmith’s capabilities become essential. If you’re debugging complex AI models or managing large-scale workflows with multiple moving parts, Langsmith’s advanced debugging and orchestration features will be indispensable. Additionally, if you’re working on cross-platform model deployments — say, running models on-prem and in the cloud simultaneously — Langsmith offers better orchestration and monitoring tools to handle the complexity.', 'LangChain is ideal for early-stage prototyping and small-scale applications, while LangSmith is better suited for large-scale, production-ready', 'If you’re responsible for ensuring your AI models work in production, or you need to frequently debug and monitor your pipelines, Langsmith is your go-to tool. In short, while Langchain excels at managing and scaling model workflows, Langsmith is designed for those times when you need deep visibility and control over large, complex AI systems in production. But if you’re managing a complex AI pipeline with multiple models that need debugging and orchestrating, Langsmith’s capabilities become essential. If you’re debugging complex AI models or managing large-scale workflows with multiple moving parts, Langsmith’s advanced debugging and orchestration features will be indispensable. Additionally, if you’re working on cross-platform model deployments — say, running models on-prem and in the cloud simultaneously — Langsmith offers better orchestration and monitoring tools to handle the complexity.', 'LangChain is ideal for early-stage prototyping and small-scale applications, while LangSmith is better suited for large-scale, production-ready applications.', 'If you’re responsible for ensuring your AI models work in production, or you need to frequently debug and monitor your pipelines, Langsmith is your go-to tool. In short, while Langchain excels at managing and scaling model workflows, Langsmith is designed for those times when you need deep visibility and control over large, complex AI systems in production. But if you’re managing a complex AI pipeline with multiple models that need debugging and orchestrating, Langsmith’s capabilities become essential. If you’re debugging complex AI models or managing large-scale workflows with multiple moving parts, Langsmith’s advanced debugging and orchestration features will be indispensable. Additionally, if you’re working on cross-platform model deployments — say, running models on-prem and in the cloud simultaneously — Langsmith offers better orchestration and monitoring tools to handle the complexity.', 'LangChain and LangSmith are two complementary tools that cater to different stages and requirements of LLM development. LangChain is ideal for early-stage prototyping and small-scale applications, while LangSmith is better suited for large-scale, production-ready applications that require advanced debugging, testing, and monitoring capabilities', 'Here’s the deal: LangChain is like building the entire car, while LangSmith is your diagnostic tool to ensure that car runs smoothly. When it comes to practical application, I always say: “Show, don’t tell.” I’ve used both LangChain and LangSmith extensively, and I’ve found that they complement each other beautifully when you’re building and fine-tuning LLM-based workflows. Having spent countless hours building and debugging LLM-based systems, I’ve learned that using LangChain and LangSmith effectively requires a few smart strategies. I often use LangChain to build my pipelines and LangSmith to monitor and debug them. Start with LangChain to build your pipeline, and then bring in LangSmith to ensure it performs as expected.', 'If you’re responsible for ensuring your AI models work in production, or you need to frequently debug and monitor your pipelines, Langsmith is your go-to tool. In short, while Langchain excels at managing and scaling model workflows, Langsmith is designed for those times when you need deep visibility and control over large, complex AI systems in production. But if you’re managing a complex AI pipeline with multiple models that need debugging and orchestrating, Langsmith’s capabilities become essential. If you’re debugging complex AI models or managing large-scale workflows with multiple moving parts, Langsmith’s advanced debugging and orchestration features will be indispensable. Additionally, if you’re working on cross-platform model deployments — say, running models on-prem and in the cloud simultaneously — Langsmith offers better orchestration and monitoring tools to handle the complexity.', 'Introduction A simple definition of a Language Model is an AI model that has been trained to predict the next word or words in a text based on the preceding words, its part of the technology that', '1. What is an AI Language Model? An AI language model is a type of artificial intelligence designed to understand, generate, and process human language. 1. Are large language models generative AI? 3. How can you make an AI language model? 9. Which AI language model is used for text-to-image generation? Are large language models the same as generative AI? While generative AI encompasses any AI that can create new data (like images, music, or text), large language models specifically focus on generating and processing human language. Whether you’re generating creative content or analyzing complex data, the best AI language models of 2024 offer powerful solutions to enhance productivity and innovation across industries.', 'Here’s the deal: LangChain is like building the entire car, while LangSmith is your diagnostic tool to ensure that car runs smoothly. When it comes to practical application, I always say: “Show, don’t tell.” I’ve used both LangChain and LangSmith extensively, and I’ve found that they complement each other beautifully when you’re building and fine-tuning LLM-based workflows. Having spent countless hours building and debugging LLM-based systems, I’ve learned that using LangChain and LangSmith effectively requires a few smart strategies. I often use LangChain to build my pipelines and LangSmith to monitor and debug them. Start with LangChain to build your pipeline, and then bring in LangSmith to ensure it performs as expected.', 'If you’re responsible for ensuring your AI models work in production, or you need to frequently debug and monitor your pipelines, Langsmith is your go-to tool. In short, while Langchain excels at managing and scaling model workflows, Langsmith is designed for those times when you need deep visibility and control over large, complex AI systems in production. But if you’re managing a complex AI pipeline with multiple models that need debugging and orchestrating, Langsmith’s capabilities become essential. If you’re debugging complex AI models or managing large-scale workflows with multiple moving parts, Langsmith’s advanced debugging and orchestration features will be indispensable. Additionally, if you’re working on cross-platform model deployments — say, running models on-prem and in the cloud simultaneously — Langsmith offers better orchestration and monitoring tools to handle the complexity.']}}\n",
            "{'generate': {'draft': \"Here is a 5-paragraph essay on the difference between LangChain and Langsmith:\\n\\nThe field of artificial intelligence has witnessed significant advancements in recent years, with language models being a major area of focus. Two notable language models that have gained attention are LangChain and Langsmith. While both models are designed to process and generate human-like language, they have distinct differences in their architecture, capabilities, and use cases. LangChain is a framework for building and interacting with language models, allowing developers to create custom models tailored to specific applications. On the other hand, Langsmith is a language model designed for production-ready applications, offering advanced debugging and orchestration features for complex AI systems.\\n\\nLangChain is ideal for early-stage prototyping and small-scale applications, where its modular design and support for multiple language models make it an attractive choice. For instance, LangChain can be used to build chatbots, language translation systems, and other applications that require a high degree of customization. Its ability to integrate with various language models and frameworks makes it a versatile tool for developers. In contrast, Langsmith is better suited for large-scale, production-ready applications that require advanced debugging and testing capabilities. Langsmith's advanced features, such as its ability to handle cross-platform model deployments and provide deep visibility and control over complex AI systems, make it an essential tool for ensuring the smooth operation of AI models in production.\\n\\nOne of the primary differences between LangChain and Langsmith is their architecture and capabilities. LangChain is designed to be a flexible and modular framework, allowing developers to build and customize their own language models. Langsmith, on the other hand, is a more specialized model that is optimized for production-ready applications. Langsmith's architecture is designed to provide advanced debugging and orchestration features, making it an ideal choice for complex AI systems that require precise control and monitoring. Additionally, Langsmith's ability to learn from user feedback and adapt to different writing styles makes it a valuable tool for applications that require high-quality language generation.\\n\\nThe differences between LangChain and Langsmith have significant implications for their use cases and applications. LangChain is well-suited for applications that require a high degree of customization and flexibility, such as chatbots and language translation systems. Langsmith, on the other hand, is ideal for large-scale applications that require advanced debugging and testing capabilities, such as content creation and language translation platforms. For example, Langsmith can be used to ensure that AI-generated content meets certain quality standards, while LangChain can be used to build custom language models for specific industries or applications. By understanding the strengths and weaknesses of each model, developers can choose the most suitable tool for their specific needs.\\n\\nIn conclusion, LangChain and Langsmith are two distinct language models that cater to different stages and requirements of AI development. While LangChain is ideal for early-stage prototyping and small-scale applications, Langsmith is better suited for large-scale, production-ready applications that require advanced debugging and testing capabilities. By understanding the differences between these two models, developers can make informed decisions about which tool to use for their specific needs. As the field of artificial intelligence continues to evolve, the distinction between LangChain and Langsmith will become increasingly important, and developers who can harness the strengths of each model will be well-positioned to build innovative and effective AI-powered applications.\", 'revision_number': 3}}\n"
          ]
        }
      ]
    },
    {
      "cell_type": "code",
      "source": [
        "for item in s:\n",
        "    if 'research_plan' in item:\n",
        "        print(item['research_plan'])"
      ],
      "metadata": {
        "id": "zhsbRsq1Ln3O"
      },
      "execution_count": 51,
      "outputs": []
    },
    {
      "cell_type": "code",
      "source": [],
      "metadata": {
        "colab": {
          "base_uri": "https://localhost:8080/"
        },
        "id": "XbU_xG2ASkko",
        "outputId": "1a947995-adc9-47b9-ccc7-2beede0adb83"
      },
      "execution_count": 44,
      "outputs": [
        {
          "output_type": "stream",
          "name": "stdout",
          "text": [
            "generate\n"
          ]
        }
      ]
    },
    {
      "cell_type": "code",
      "source": [],
      "metadata": {
        "id": "AKEc_gWYV1GC"
      },
      "execution_count": null,
      "outputs": []
    }
  ]
}